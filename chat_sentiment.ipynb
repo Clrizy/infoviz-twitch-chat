{
 "cells": [
  {
   "cell_type": "markdown",
   "metadata": {},
   "source": [
    "Workflow:\n",
    "- read in messages\n",
    "- tokenize messages / preprocess - this involves: identifying emotes (e.g. pokiHype), emoticons (<3, :), etc), slang (sadge, etc)\n",
    "- put messages into some kind of sentiment analyzer "
   ]
  },
  {
   "cell_type": "code",
   "execution_count": 1,
   "metadata": {},
   "outputs": [],
   "source": [
    "import pandas as pd"
   ]
  },
  {
   "cell_type": "code",
   "execution_count": 59,
   "metadata": {},
   "outputs": [],
   "source": [
    "df = pd.read_csv(\"./tyler1_updated.csv\")"
   ]
  },
  {
   "cell_type": "code",
   "execution_count": 60,
   "metadata": {},
   "outputs": [],
   "source": [
    "msgs = df['message']"
   ]
  },
  {
   "cell_type": "code",
   "execution_count": 61,
   "metadata": {},
   "outputs": [],
   "source": [
    "from vaderSentiment.vaderSentiment import SentimentIntensityAnalyzer"
   ]
  },
  {
   "cell_type": "code",
   "execution_count": 62,
   "metadata": {},
   "outputs": [],
   "source": [
    "posEmotesSlang = ['pokihype', 'pokiw', 'pokipride', 'pokiwater', 'pokint', 'pokiwow', 'pokiya', 'pokidrool',\n",
    "                 'pokio', 'pokiheart', 'pokifree', 'pokisub', 'pokigift', 'pokikek', 'pokigood', 'pokiaww',\n",
    "                  'pokihey', 'pokishy', 'pokih', 'pokil', 'pokihypers', 'pokimoney', 'pokiflex', 'pokiuwu',\n",
    "                  'pogu', 'pog', 'poggers', 'pogchamp', 'tyler1ssj', 'tyler1bb', 'tyler1ayy', \n",
    "                  'tyler1good', 'tyler1champ', 'tyler1pride', 'drhgpog', 'drhghypers', 'drhgsmile', 'drhgok', 'drhgpepega', \n",
    "                 ]"
   ]
  },
  {
   "cell_type": "code",
   "execution_count": 63,
   "metadata": {},
   "outputs": [],
   "source": [
    "negEmotesSlang = ['sadge', 'monkas', 'pokiree', 'pokibruh', 'pokipuke', 'pokiknife', 'pokiban', 'pokigun', 'pokiyikes', \n",
    "                 'pokicry', 'pokiweird', 'weirdchamp', 'monkaw', 'monka', 'monkas', 'inting', 'malding',\n",
    "                 'tyler1ban', 'tyler1sleeper', 'tyler1bruh', 'tyler1monk', 'drhgweird', 'drhgehh', 'drhgwtf', ]"
   ]
  },
  {
   "cell_type": "code",
   "execution_count": 64,
   "metadata": {},
   "outputs": [],
   "source": [
    "to_extend_lexicon_file=\"./twitch_lexicon.txt\""
   ]
  },
  {
   "cell_type": "code",
   "execution_count": 65,
   "metadata": {},
   "outputs": [],
   "source": [
    "with open(to_extend_lexicon_file, mode='w') as f:\n",
    "    for entry in posEmotesSlang:\n",
    "        outString = entry + \"\\t\" + \"1.0\" + \"\\n\"\n",
    "        f.write(outString)\n",
    "    for entry in negEmotesSlang:\n",
    "        outString = entry + \"\\t\" + \"-1.0\" + \"\\n\"\n",
    "        f.write(outString)"
   ]
  },
  {
   "cell_type": "code",
   "execution_count": 66,
   "metadata": {},
   "outputs": [],
   "source": [
    "# add on the original lexicon file\n",
    "lex_new = open(to_extend_lexicon_file, \"r\")\n",
    "data1 = lex_new.read()\n",
    "lex_new.close()\n",
    "\n",
    "lex_old = open(\"../anaconda3/envs/nlp/lib/python3.8/site-packages/vaderSentiment/vader_lexicon.txt\", \"r\")\n",
    "data2 = lex_old.read()\n",
    "lex_old.close()\n",
    "\n",
    "combined_data = data1 + data2\n",
    "\n",
    "combined_lex = open(\"../anaconda3/envs/nlp/lib/python3.8/site-packages/vaderSentiment/vader_lexicon_extended.txt\", \"w\")\n",
    "combined_lex.write(combined_data)\n",
    "combined_lex.close()"
   ]
  },
  {
   "cell_type": "code",
   "execution_count": 67,
   "metadata": {},
   "outputs": [],
   "source": [
    "analyzer = SentimentIntensityAnalyzer(\"vader_lexicon_extended.txt\")"
   ]
  },
  {
   "cell_type": "code",
   "execution_count": null,
   "metadata": {},
   "outputs": [],
   "source": []
  },
  {
   "cell_type": "code",
   "execution_count": 68,
   "metadata": {},
   "outputs": [
    {
     "name": "stdout",
     "output_type": "stream",
     "text": [
      "'float' object is not iterable nan\n",
      "'float' object is not iterable nan\n",
      "'float' object is not iterable nan\n",
      "'float' object is not iterable nan\n",
      "'float' object is not iterable nan\n"
     ]
    }
   ],
   "source": [
    "to_concat = {'neg':[], 'neu':[], 'pos':[], 'compound':[]}\n",
    "for msg in msgs:\n",
    "    try:\n",
    "        score = analyzer.polarity_scores(msg)\n",
    "        for key, val in score.items():\n",
    "            to_concat[key].append(val)\n",
    "    except Exception as e:\n",
    "        # simply append the values from the last item. We do this so that we don't end up with blank entries\n",
    "        for key, val in score.items():\n",
    "            to_concat[key].append(val)\n",
    "        print(e, msg)\n",
    "        continue\n",
    "\n",
    "to_concat_df = pd.DataFrame(to_concat)\n",
    "\n",
    "full_df = pd.concat([df, to_concat_df], axis=1)"
   ]
  },
  {
   "cell_type": "code",
   "execution_count": 69,
   "metadata": {},
   "outputs": [
    {
     "data": {
      "text/html": [
       "<div>\n",
       "<style scoped>\n",
       "    .dataframe tbody tr th:only-of-type {\n",
       "        vertical-align: middle;\n",
       "    }\n",
       "\n",
       "    .dataframe tbody tr th {\n",
       "        vertical-align: top;\n",
       "    }\n",
       "\n",
       "    .dataframe thead th {\n",
       "        text-align: right;\n",
       "    }\n",
       "</style>\n",
       "<table border=\"1\" class=\"dataframe\">\n",
       "  <thead>\n",
       "    <tr style=\"text-align: right;\">\n",
       "      <th></th>\n",
       "      <th>dt</th>\n",
       "      <th>channel</th>\n",
       "      <th>username</th>\n",
       "      <th>message</th>\n",
       "      <th>neg</th>\n",
       "      <th>neu</th>\n",
       "      <th>pos</th>\n",
       "      <th>compound</th>\n",
       "    </tr>\n",
       "  </thead>\n",
       "  <tbody>\n",
       "    <tr>\n",
       "      <th>0</th>\n",
       "      <td>2021-05-06 18:28:43</td>\n",
       "      <td>loltyler1</td>\n",
       "      <td>tee_kaylol</td>\n",
       "      <td>@3SHENOP short sighted doesnt matter if you're...</td>\n",
       "      <td>0.097</td>\n",
       "      <td>0.903</td>\n",
       "      <td>0.000</td>\n",
       "      <td>-0.0191</td>\n",
       "    </tr>\n",
       "    <tr>\n",
       "      <th>1</th>\n",
       "      <td>2021-05-06 18:28:44</td>\n",
       "      <td>loltyler1</td>\n",
       "      <td>rorodelablanca</td>\n",
       "      <td>pepo</td>\n",
       "      <td>0.000</td>\n",
       "      <td>1.000</td>\n",
       "      <td>0.000</td>\n",
       "      <td>0.0000</td>\n",
       "    </tr>\n",
       "    <tr>\n",
       "      <th>2</th>\n",
       "      <td>2021-05-06 18:28:44</td>\n",
       "      <td>loltyler1</td>\n",
       "      <td>i__am__jon</td>\n",
       "      <td>They going to base</td>\n",
       "      <td>0.000</td>\n",
       "      <td>1.000</td>\n",
       "      <td>0.000</td>\n",
       "      <td>0.0000</td>\n",
       "    </tr>\n",
       "    <tr>\n",
       "      <th>3</th>\n",
       "      <td>2021-05-06 18:28:44</td>\n",
       "      <td>loltyler1</td>\n",
       "      <td>ib_0p</td>\n",
       "      <td>holy fuck</td>\n",
       "      <td>0.778</td>\n",
       "      <td>0.222</td>\n",
       "      <td>0.000</td>\n",
       "      <td>-0.5423</td>\n",
       "    </tr>\n",
       "    <tr>\n",
       "      <th>4</th>\n",
       "      <td>2021-05-06 18:28:44</td>\n",
       "      <td>loltyler1</td>\n",
       "      <td>bureng_</td>\n",
       "      <td>2 ur mom's 4Head</td>\n",
       "      <td>0.000</td>\n",
       "      <td>1.000</td>\n",
       "      <td>0.000</td>\n",
       "      <td>0.0000</td>\n",
       "    </tr>\n",
       "    <tr>\n",
       "      <th>...</th>\n",
       "      <td>...</td>\n",
       "      <td>...</td>\n",
       "      <td>...</td>\n",
       "      <td>...</td>\n",
       "      <td>...</td>\n",
       "      <td>...</td>\n",
       "      <td>...</td>\n",
       "      <td>...</td>\n",
       "    </tr>\n",
       "    <tr>\n",
       "      <th>23955</th>\n",
       "      <td>2021-05-06 20:37:34</td>\n",
       "      <td>loltyler1</td>\n",
       "      <td>xqcs_waifu</td>\n",
       "      <td>2324 PICK DOGSHIT TOP CHAMP LULW CRY ABOUT ROA...</td>\n",
       "      <td>0.165</td>\n",
       "      <td>0.560</td>\n",
       "      <td>0.274</td>\n",
       "      <td>0.3680</td>\n",
       "    </tr>\n",
       "    <tr>\n",
       "      <th>23956</th>\n",
       "      <td>2021-05-06 20:37:34</td>\n",
       "      <td>loltyler1</td>\n",
       "      <td>itscakebruh</td>\n",
       "      <td>!ran k</td>\n",
       "      <td>0.000</td>\n",
       "      <td>1.000</td>\n",
       "      <td>0.000</td>\n",
       "      <td>0.0000</td>\n",
       "    </tr>\n",
       "    <tr>\n",
       "      <th>23957</th>\n",
       "      <td>2021-05-06 20:37:34</td>\n",
       "      <td>loltyler1</td>\n",
       "      <td>mrmarepoto</td>\n",
       "      <td>BigBrother RUN IT DOWN MID</td>\n",
       "      <td>0.000</td>\n",
       "      <td>1.000</td>\n",
       "      <td>0.000</td>\n",
       "      <td>0.0000</td>\n",
       "    </tr>\n",
       "    <tr>\n",
       "      <th>23958</th>\n",
       "      <td>2021-05-06 20:37:35</td>\n",
       "      <td>loltyler1</td>\n",
       "      <td>nemesisbd</td>\n",
       "      <td>Pog</td>\n",
       "      <td>0.000</td>\n",
       "      <td>0.000</td>\n",
       "      <td>1.000</td>\n",
       "      <td>0.2500</td>\n",
       "    </tr>\n",
       "    <tr>\n",
       "      <th>23959</th>\n",
       "      <td>2021-05-06 20:37:36</td>\n",
       "      <td>loltyler1</td>\n",
       "      <td>watermelon_warriorz</td>\n",
       "      <td>!rank</td>\n",
       "      <td>0.000</td>\n",
       "      <td>1.000</td>\n",
       "      <td>0.000</td>\n",
       "      <td>0.0000</td>\n",
       "    </tr>\n",
       "  </tbody>\n",
       "</table>\n",
       "<p>23960 rows × 8 columns</p>\n",
       "</div>"
      ],
      "text/plain": [
       "                        dt    channel             username  \\\n",
       "0      2021-05-06 18:28:43  loltyler1           tee_kaylol   \n",
       "1      2021-05-06 18:28:44  loltyler1       rorodelablanca   \n",
       "2      2021-05-06 18:28:44  loltyler1           i__am__jon   \n",
       "3      2021-05-06 18:28:44  loltyler1                ib_0p   \n",
       "4      2021-05-06 18:28:44  loltyler1              bureng_   \n",
       "...                    ...        ...                  ...   \n",
       "23955  2021-05-06 20:37:34  loltyler1           xqcs_waifu   \n",
       "23956  2021-05-06 20:37:34  loltyler1          itscakebruh   \n",
       "23957  2021-05-06 20:37:34  loltyler1           mrmarepoto   \n",
       "23958  2021-05-06 20:37:35  loltyler1            nemesisbd   \n",
       "23959  2021-05-06 20:37:36  loltyler1  watermelon_warriorz   \n",
       "\n",
       "                                                 message    neg    neu    pos  \\\n",
       "0      @3SHENOP short sighted doesnt matter if you're...  0.097  0.903  0.000   \n",
       "1                                                   pepo  0.000  1.000  0.000   \n",
       "2                                     They going to base  0.000  1.000  0.000   \n",
       "3                                              holy fuck  0.778  0.222  0.000   \n",
       "4                                       2 ur mom's 4Head  0.000  1.000  0.000   \n",
       "...                                                  ...    ...    ...    ...   \n",
       "23955  2324 PICK DOGSHIT TOP CHAMP LULW CRY ABOUT ROA...  0.165  0.560  0.274   \n",
       "23956                                             !ran k  0.000  1.000  0.000   \n",
       "23957                         BigBrother RUN IT DOWN MID  0.000  1.000  0.000   \n",
       "23958                                                Pog  0.000  0.000  1.000   \n",
       "23959                                              !rank  0.000  1.000  0.000   \n",
       "\n",
       "       compound  \n",
       "0       -0.0191  \n",
       "1        0.0000  \n",
       "2        0.0000  \n",
       "3       -0.5423  \n",
       "4        0.0000  \n",
       "...         ...  \n",
       "23955    0.3680  \n",
       "23956    0.0000  \n",
       "23957    0.0000  \n",
       "23958    0.2500  \n",
       "23959    0.0000  \n",
       "\n",
       "[23960 rows x 8 columns]"
      ]
     },
     "execution_count": 69,
     "metadata": {},
     "output_type": "execute_result"
    }
   ],
   "source": [
    "full_df"
   ]
  },
  {
   "cell_type": "code",
   "execution_count": 70,
   "metadata": {},
   "outputs": [],
   "source": [
    "full_df.to_csv('t1_updated_chat_with_sentiment.csv')"
   ]
  },
  {
   "cell_type": "code",
   "execution_count": null,
   "metadata": {},
   "outputs": [],
   "source": []
  },
  {
   "cell_type": "code",
   "execution_count": 71,
   "metadata": {},
   "outputs": [],
   "source": [
    "hgg_df = pd.read_csv('h_gg_chat_with_sentiment.csv')\n",
    "t1_df = pd.read_csv('t1_updated_chat_with_sentiment.csv')\n",
    "poki_df = pd.read_csv('poki_updated_chat_with_sentiment.csv')"
   ]
  },
  {
   "cell_type": "code",
   "execution_count": 72,
   "metadata": {},
   "outputs": [],
   "source": [
    "import matplotlib.pyplot as plt"
   ]
  },
  {
   "cell_type": "code",
   "execution_count": 82,
   "metadata": {},
   "outputs": [
    {
     "data": {
      "text/plain": [
       "{'bodies': [<matplotlib.collections.PolyCollection at 0x7f8285377b20>],\n",
       " 'cmaxes': <matplotlib.collections.LineCollection at 0x7f8285377970>,\n",
       " 'cmins': <matplotlib.collections.LineCollection at 0x7f8285377940>,\n",
       " 'cbars': <matplotlib.collections.LineCollection at 0x7f82853862e0>}"
      ]
     },
     "execution_count": 82,
     "metadata": {},
     "output_type": "execute_result"
    },
    {
     "data": {
      "image/png": "[encoded data removed]",
      "text/plain": [
       "<Figure size 432x288 with 1 Axes>"
      ]
     },
     "metadata": {
      "needs_background": "light"
     },
     "output_type": "display_data"
    }
   ],
   "source": [
    "# first, visualize the differences in sentiment:\n",
    "plt.violinplot([x for x in hgg_df['compound']])"
   ]
  },
  {
   "cell_type": "code",
   "execution_count": 83,
   "metadata": {},
   "outputs": [
    {
     "data": {
      "text/plain": [
       "{'bodies': [<matplotlib.collections.PolyCollection at 0x7f828c42a6a0>],\n",
       " 'cmaxes': <matplotlib.collections.LineCollection at 0x7f828c42a1f0>,\n",
       " 'cmins': <matplotlib.collections.LineCollection at 0x7f8287492940>,\n",
       " 'cbars': <matplotlib.collections.LineCollection at 0x7f828c4c3100>}"
      ]
     },
     "execution_count": 83,
     "metadata": {},
     "output_type": "execute_result"
    },
    {
     "data": {
      "image/png": "[encoded data removed]",
      "text/plain": [
       "<Figure size 432x288 with 1 Axes>"
      ]
     },
     "metadata": {
      "needs_background": "light"
     },
     "output_type": "display_data"
    }
   ],
   "source": [
    "plt.violinplot([x for x in t1_df['compound']])"
   ]
  },
  {
   "cell_type": "code",
   "execution_count": 81,
   "metadata": {},
   "outputs": [
    {
     "data": {
      "text/plain": [
       "{'whiskers': [<matplotlib.lines.Line2D at 0x7f8285493b20>,\n",
       "  <matplotlib.lines.Line2D at 0x7f8285493e80>],\n",
       " 'caps': [<matplotlib.lines.Line2D at 0x7f82854a0220>,\n",
       "  <matplotlib.lines.Line2D at 0x7f82854a0580>],\n",
       " 'boxes': [<matplotlib.lines.Line2D at 0x7f82854937c0>],\n",
       " 'medians': [<matplotlib.lines.Line2D at 0x7f82854a08e0>],\n",
       " 'fliers': [<matplotlib.lines.Line2D at 0x7f82854a0c40>],\n",
       " 'means': []}"
      ]
     },
     "execution_count": 81,
     "metadata": {},
     "output_type": "execute_result"
    },
    {
     "data": {
      "image/png": "[encoded data removed]",
      "text/plain": [
       "<Figure size 432x288 with 1 Axes>"
      ]
     },
     "metadata": {
      "needs_background": "light"
     },
     "output_type": "display_data"
    }
   ],
   "source": [
    "plt.boxplot([x for x in poki_df['compound'] if x!=0])"
   ]
  },
  {
   "cell_type": "code",
   "execution_count": 22,
   "metadata": {},
   "outputs": [
    {
     "data": {
      "text/plain": [
       "{'bodies': [<matplotlib.collections.PolyCollection at 0x7f828757cfd0>],\n",
       " 'cmaxes': <matplotlib.collections.LineCollection at 0x7f828757ce20>,\n",
       " 'cmins': <matplotlib.collections.LineCollection at 0x7f828758a4f0>,\n",
       " 'cbars': <matplotlib.collections.LineCollection at 0x7f828758a7f0>}"
      ]
     },
     "execution_count": 22,
     "metadata": {},
     "output_type": "execute_result"
    },
    {
     "data": {
      "image/png": "[encoded data removed]",
      "text/plain": [
       "<Figure size 432x288 with 1 Axes>"
      ]
     },
     "metadata": {
      "needs_background": "light"
     },
     "output_type": "display_data"
    }
   ],
   "source": [
    "plt.violinplot([x for x in t1_df['compound'] if x != 0])"
   ]
  },
  {
   "cell_type": "code",
   "execution_count": 26,
   "metadata": {},
   "outputs": [
    {
     "data": {
      "text/plain": [
       "{'bodies': [<matplotlib.collections.PolyCollection at 0x7f9e67243ac0>],\n",
       " 'cmaxes': <matplotlib.collections.LineCollection at 0x7f9e6725a100>,\n",
       " 'cmins': <matplotlib.collections.LineCollection at 0x7f9e67243f40>,\n",
       " 'cbars': <matplotlib.collections.LineCollection at 0x7f9e671b8280>}"
      ]
     },
     "execution_count": 26,
     "metadata": {},
     "output_type": "execute_result"
    },
    {
     "data": {
      "image/png": "[encoded data removed]",
      "text/plain": [
       "<Figure size 432x288 with 1 Axes>"
      ]
     },
     "metadata": {
      "needs_background": "light"
     },
     "output_type": "display_data"
    }
   ],
   "source": [
    "plt.violinplot([x for x in doublelift_df['compound'] if x != 0])"
   ]
  },
  {
   "cell_type": "code",
   "execution_count": null,
   "metadata": {},
   "outputs": [],
   "source": [
    "# filter out \"noise\" events that are just 0s"
   ]
  },
  {
   "cell_type": "code",
   "execution_count": 44,
   "metadata": {},
   "outputs": [
    {
     "data": {
      "text/plain": [
       "[<matplotlib.lines.Line2D at 0x7f9b3b73c2b0>]"
      ]
     },
     "execution_count": 44,
     "metadata": {},
     "output_type": "execute_result"
    },
    {
     "data": {
      "image/png": "[encoded data removed]",
      "text/plain": [
       "<Figure size 432x288 with 1 Axes>"
      ]
     },
     "metadata": {
      "needs_background": "light"
     },
     "output_type": "display_data"
    }
   ],
   "source": [
    "# now, show over time\n",
    "plt.plot([x for x in t1_df['compound'] if x != 0])"
   ]
  },
  {
   "cell_type": "code",
   "execution_count": 59,
   "metadata": {},
   "outputs": [
    {
     "data": {
      "text/plain": [
       "[<matplotlib.lines.Line2D at 0x7f9b3b9769d0>]"
      ]
     },
     "execution_count": 59,
     "metadata": {},
     "output_type": "execute_result"
    },
    {
     "data": {
      "image/png": "[encoded data removed]",
      "text/plain": [
       "<Figure size 432x288 with 1 Axes>"
      ]
     },
     "metadata": {
      "needs_background": "light"
     },
     "output_type": "display_data"
    }
   ],
   "source": [
    "plt.plot([x for x in poki_df['compound'] if x != 0])"
   ]
  },
  {
   "cell_type": "code",
   "execution_count": 50,
   "metadata": {},
   "outputs": [],
   "source": [
    "import numpy as np"
   ]
  },
  {
   "cell_type": "code",
   "execution_count": 55,
   "metadata": {},
   "outputs": [
    {
     "data": {
      "image/png": "[encoded data removed]",
      "text/plain": [
       "<Figure size 432x288 with 1 Axes>"
      ]
     },
     "metadata": {
      "needs_background": "light"
     },
     "output_type": "display_data"
    }
   ],
   "source": [
    "msgs_no_neutral = [x for x in poki_df['compound'] if x != 0]\n",
    "msg_averages = []\n",
    "for i in range(int(len(msgs_no_neutral) / 50)):\n",
    "    msg_averages.append(np.mean(msgs_no_neutral[i:i*50]))\n",
    "plt.plot(msg_averages)\n",
    "plt.ylim([-1, 1])\n",
    "plt.show()"
   ]
  },
  {
   "cell_type": "code",
   "execution_count": 58,
   "metadata": {},
   "outputs": [
    {
     "data": {
      "image/png": "[encoded data removed]",
      "text/plain": [
       "<Figure size 432x288 with 1 Axes>"
      ]
     },
     "metadata": {
      "needs_background": "light"
     },
     "output_type": "display_data"
    }
   ],
   "source": [
    "msgs_no_neutral = [x for x in t1_df['compound'] if x != 0]\n",
    "msg_averages = []\n",
    "for i in range(int(len(msgs_no_neutral) / 50)):\n",
    "    msg_averages.append(np.mean(msgs_no_neutral[i:i*50]))\n",
    "plt.plot(msg_averages)\n",
    "plt.ylim([-1, 1])\n",
    "plt.show()"
   ]
  },
  {
   "cell_type": "code",
   "execution_count": 47,
   "metadata": {},
   "outputs": [
    {
     "data": {
      "text/html": [
       "<div>\n",
       "<style scoped>\n",
       "    .dataframe tbody tr th:only-of-type {\n",
       "        vertical-align: middle;\n",
       "    }\n",
       "\n",
       "    .dataframe tbody tr th {\n",
       "        vertical-align: top;\n",
       "    }\n",
       "\n",
       "    .dataframe thead th {\n",
       "        text-align: right;\n",
       "    }\n",
       "</style>\n",
       "<table border=\"1\" class=\"dataframe\">\n",
       "  <thead>\n",
       "    <tr style=\"text-align: right;\">\n",
       "      <th></th>\n",
       "      <th>Unnamed: 0</th>\n",
       "      <th>dt</th>\n",
       "      <th>channel</th>\n",
       "      <th>username</th>\n",
       "      <th>message</th>\n",
       "      <th>neg</th>\n",
       "      <th>neu</th>\n",
       "      <th>pos</th>\n",
       "      <th>compound</th>\n",
       "    </tr>\n",
       "  </thead>\n",
       "  <tbody>\n",
       "    <tr>\n",
       "      <th>11206</th>\n",
       "      <td>11206</td>\n",
       "      <td>2021-04-18 16:20:01</td>\n",
       "      <td>pokimane</td>\n",
       "      <td>widepeeposergio</td>\n",
       "      <td>WideMimi HYPERCLAP NO STREAMER WideMimi HYPERC...</td>\n",
       "      <td>0.494</td>\n",
       "      <td>0.506</td>\n",
       "      <td>0.0</td>\n",
       "      <td>-0.9614</td>\n",
       "    </tr>\n",
       "    <tr>\n",
       "      <th>11208</th>\n",
       "      <td>11208</td>\n",
       "      <td>2021-04-18 16:20:04</td>\n",
       "      <td>pokimane</td>\n",
       "      <td>awesomehasser1945</td>\n",
       "      <td>WideHardo Clap NO STREAMER WideHardo Clap NO S...</td>\n",
       "      <td>0.485</td>\n",
       "      <td>0.515</td>\n",
       "      <td>0.0</td>\n",
       "      <td>-0.9939</td>\n",
       "    </tr>\n",
       "    <tr>\n",
       "      <th>11211</th>\n",
       "      <td>11211</td>\n",
       "      <td>2021-04-18 16:20:05</td>\n",
       "      <td>pokimane</td>\n",
       "      <td>alexgris_</td>\n",
       "      <td>WideMimi HYPERCLAP NO STREAMER WideMimi HYPERC...</td>\n",
       "      <td>0.494</td>\n",
       "      <td>0.506</td>\n",
       "      <td>0.0</td>\n",
       "      <td>-0.9761</td>\n",
       "    </tr>\n",
       "    <tr>\n",
       "      <th>11213</th>\n",
       "      <td>11213</td>\n",
       "      <td>2021-04-18 16:20:05</td>\n",
       "      <td>pokimane</td>\n",
       "      <td>rektmate23</td>\n",
       "      <td>WideHardo Clap NO STREAMER WideHardo Clap NO S...</td>\n",
       "      <td>0.494</td>\n",
       "      <td>0.506</td>\n",
       "      <td>0.0</td>\n",
       "      <td>-0.9883</td>\n",
       "    </tr>\n",
       "    <tr>\n",
       "      <th>11224</th>\n",
       "      <td>11224</td>\n",
       "      <td>2021-04-18 16:20:09</td>\n",
       "      <td>pokimane</td>\n",
       "      <td>pogi52</td>\n",
       "      <td>WideHardo Clap NO STREAMER WideHardo Clap NO S...</td>\n",
       "      <td>0.494</td>\n",
       "      <td>0.506</td>\n",
       "      <td>0.0</td>\n",
       "      <td>-0.9883</td>\n",
       "    </tr>\n",
       "    <tr>\n",
       "      <th>11231</th>\n",
       "      <td>11231</td>\n",
       "      <td>2021-04-18 16:20:14</td>\n",
       "      <td>pokimane</td>\n",
       "      <td>pogi52</td>\n",
       "      <td>WideHardo Clap NO STREAMER WideHardo Clap NO S...</td>\n",
       "      <td>0.488</td>\n",
       "      <td>0.512</td>\n",
       "      <td>0.0</td>\n",
       "      <td>-0.9883</td>\n",
       "    </tr>\n",
       "    <tr>\n",
       "      <th>11232</th>\n",
       "      <td>11232</td>\n",
       "      <td>2021-04-18 16:20:14</td>\n",
       "      <td>pokimane</td>\n",
       "      <td>awesomehasser1945</td>\n",
       "      <td>WideHardo Clap NO STREAMER WideHardo Clap NO S...</td>\n",
       "      <td>0.494</td>\n",
       "      <td>0.506</td>\n",
       "      <td>0.0</td>\n",
       "      <td>-0.9899</td>\n",
       "    </tr>\n",
       "    <tr>\n",
       "      <th>11239</th>\n",
       "      <td>11239</td>\n",
       "      <td>2021-04-18 16:20:19</td>\n",
       "      <td>pokimane</td>\n",
       "      <td>awesomehasser1945</td>\n",
       "      <td>WideHardo Clap NO STREAMER WideHardo Clap NO S...</td>\n",
       "      <td>0.494</td>\n",
       "      <td>0.506</td>\n",
       "      <td>0.0</td>\n",
       "      <td>-0.9883</td>\n",
       "    </tr>\n",
       "    <tr>\n",
       "      <th>11249</th>\n",
       "      <td>11249</td>\n",
       "      <td>2021-04-18 16:20:27</td>\n",
       "      <td>pokimane</td>\n",
       "      <td>fur10us_gg</td>\n",
       "      <td>WideMimi HYPERCLAP NO STREAMER WideMimi HYPERC...</td>\n",
       "      <td>0.494</td>\n",
       "      <td>0.506</td>\n",
       "      <td>0.0</td>\n",
       "      <td>-0.9805</td>\n",
       "    </tr>\n",
       "    <tr>\n",
       "      <th>11252</th>\n",
       "      <td>11252</td>\n",
       "      <td>2021-04-18 16:20:28</td>\n",
       "      <td>pokimane</td>\n",
       "      <td>drakorycz</td>\n",
       "      <td>WideHardo Clap NO STREAMER WideHardo Clap NO S...</td>\n",
       "      <td>0.494</td>\n",
       "      <td>0.506</td>\n",
       "      <td>0.0</td>\n",
       "      <td>-0.9883</td>\n",
       "    </tr>\n",
       "    <tr>\n",
       "      <th>11256</th>\n",
       "      <td>11256</td>\n",
       "      <td>2021-04-18 16:20:29</td>\n",
       "      <td>pokimane</td>\n",
       "      <td>alexgris_</td>\n",
       "      <td>WideMimi HYPERCLAP NO STREAMER WideMimi HYPERC...</td>\n",
       "      <td>0.494</td>\n",
       "      <td>0.506</td>\n",
       "      <td>0.0</td>\n",
       "      <td>-0.9863</td>\n",
       "    </tr>\n",
       "    <tr>\n",
       "      <th>11257</th>\n",
       "      <td>11257</td>\n",
       "      <td>2021-04-18 16:20:30</td>\n",
       "      <td>pokimane</td>\n",
       "      <td>scope_fishe</td>\n",
       "      <td>WideHardo Clap NO STREAMER WideHardo Clap NO S...</td>\n",
       "      <td>0.494</td>\n",
       "      <td>0.506</td>\n",
       "      <td>0.0</td>\n",
       "      <td>-0.9883</td>\n",
       "    </tr>\n",
       "    <tr>\n",
       "      <th>11261</th>\n",
       "      <td>11261</td>\n",
       "      <td>2021-04-18 16:20:32</td>\n",
       "      <td>pokimane</td>\n",
       "      <td>lightspace56</td>\n",
       "      <td>WideHardo Clap NO STREAMER WideHardo Clap NO S...</td>\n",
       "      <td>0.488</td>\n",
       "      <td>0.512</td>\n",
       "      <td>0.0</td>\n",
       "      <td>-0.9883</td>\n",
       "    </tr>\n",
       "    <tr>\n",
       "      <th>11275</th>\n",
       "      <td>11275</td>\n",
       "      <td>2021-04-18 16:20:36</td>\n",
       "      <td>pokimane</td>\n",
       "      <td>spl1ce_</td>\n",
       "      <td>WideHardo Clap NO STREAMER WideHardo Clap NO S...</td>\n",
       "      <td>0.494</td>\n",
       "      <td>0.506</td>\n",
       "      <td>0.0</td>\n",
       "      <td>-0.9883</td>\n",
       "    </tr>\n",
       "    <tr>\n",
       "      <th>11294</th>\n",
       "      <td>11294</td>\n",
       "      <td>2021-04-18 16:20:48</td>\n",
       "      <td>pokimane</td>\n",
       "      <td>sayurii5</td>\n",
       "      <td>WideHardo Clap NO STREAMER WideHardo Clap NO S...</td>\n",
       "      <td>0.494</td>\n",
       "      <td>0.506</td>\n",
       "      <td>0.0</td>\n",
       "      <td>-0.9883</td>\n",
       "    </tr>\n",
       "    <tr>\n",
       "      <th>11306</th>\n",
       "      <td>11306</td>\n",
       "      <td>2021-04-18 16:20:50</td>\n",
       "      <td>pokimane</td>\n",
       "      <td>scope_fishe</td>\n",
       "      <td>WideHardo Clap NO STREAMER WideHardo Clap NO S...</td>\n",
       "      <td>0.494</td>\n",
       "      <td>0.506</td>\n",
       "      <td>0.0</td>\n",
       "      <td>-0.9883</td>\n",
       "    </tr>\n",
       "    <tr>\n",
       "      <th>11309</th>\n",
       "      <td>11309</td>\n",
       "      <td>2021-04-18 16:20:54</td>\n",
       "      <td>pokimane</td>\n",
       "      <td>azianb0ifreezy</td>\n",
       "      <td>WideMimi HYPERCLAP NO STREAMER WideMimi HYPERC...</td>\n",
       "      <td>0.489</td>\n",
       "      <td>0.511</td>\n",
       "      <td>0.0</td>\n",
       "      <td>-0.9923</td>\n",
       "    </tr>\n",
       "    <tr>\n",
       "      <th>11325</th>\n",
       "      <td>11325</td>\n",
       "      <td>2021-04-18 16:21:00</td>\n",
       "      <td>pokimane</td>\n",
       "      <td>lil_queen90</td>\n",
       "      <td>WideHardo Clap NO STREAMER WideHardo Clap NO S...</td>\n",
       "      <td>0.494</td>\n",
       "      <td>0.506</td>\n",
       "      <td>0.0</td>\n",
       "      <td>-0.9883</td>\n",
       "    </tr>\n",
       "    <tr>\n",
       "      <th>11353</th>\n",
       "      <td>11353</td>\n",
       "      <td>2021-04-18 16:21:10</td>\n",
       "      <td>pokimane</td>\n",
       "      <td>fur10us_gg</td>\n",
       "      <td>WideMimi HYPERCLAP NO STREAMER WideMimi HYPERC...</td>\n",
       "      <td>0.494</td>\n",
       "      <td>0.506</td>\n",
       "      <td>0.0</td>\n",
       "      <td>-0.9912</td>\n",
       "    </tr>\n",
       "    <tr>\n",
       "      <th>11361</th>\n",
       "      <td>11361</td>\n",
       "      <td>2021-04-18 16:21:12</td>\n",
       "      <td>pokimane</td>\n",
       "      <td>kekcl</td>\n",
       "      <td>WideHardo Clap NO STREAMER WideHardo Clap NO S...</td>\n",
       "      <td>0.494</td>\n",
       "      <td>0.506</td>\n",
       "      <td>0.0</td>\n",
       "      <td>-0.9883</td>\n",
       "    </tr>\n",
       "    <tr>\n",
       "      <th>11378</th>\n",
       "      <td>11378</td>\n",
       "      <td>2021-04-18 16:21:15</td>\n",
       "      <td>pokimane</td>\n",
       "      <td>astro_giraffe2</td>\n",
       "      <td>WideMimi HYPERCLAP NO STREAMER WideMimi HYPERC...</td>\n",
       "      <td>0.489</td>\n",
       "      <td>0.511</td>\n",
       "      <td>0.0</td>\n",
       "      <td>-0.9923</td>\n",
       "    </tr>\n",
       "    <tr>\n",
       "      <th>11385</th>\n",
       "      <td>11385</td>\n",
       "      <td>2021-04-18 16:21:16</td>\n",
       "      <td>pokimane</td>\n",
       "      <td>tororena</td>\n",
       "      <td>WideHardo Clap NO STREAMER WideHardo Clap NO S...</td>\n",
       "      <td>0.494</td>\n",
       "      <td>0.506</td>\n",
       "      <td>0.0</td>\n",
       "      <td>-0.9485</td>\n",
       "    </tr>\n",
       "    <tr>\n",
       "      <th>11399</th>\n",
       "      <td>11399</td>\n",
       "      <td>2021-04-18 16:21:18</td>\n",
       "      <td>pokimane</td>\n",
       "      <td>azianb0ifreezy</td>\n",
       "      <td>WideMimi HYPERCLAP NO STREAMER WideMimi HYPERC...</td>\n",
       "      <td>0.494</td>\n",
       "      <td>0.506</td>\n",
       "      <td>0.0</td>\n",
       "      <td>-0.9282</td>\n",
       "    </tr>\n",
       "    <tr>\n",
       "      <th>11403</th>\n",
       "      <td>11403</td>\n",
       "      <td>2021-04-18 16:21:19</td>\n",
       "      <td>pokimane</td>\n",
       "      <td>redrge</td>\n",
       "      <td>monkaW HIDE THE MEMES monkaW HIDE THE MEMES mo...</td>\n",
       "      <td>0.448</td>\n",
       "      <td>0.552</td>\n",
       "      <td>0.0</td>\n",
       "      <td>-0.9791</td>\n",
       "    </tr>\n",
       "    <tr>\n",
       "      <th>11425</th>\n",
       "      <td>11425</td>\n",
       "      <td>2021-04-18 16:21:26</td>\n",
       "      <td>pokimane</td>\n",
       "      <td>sushixt4</td>\n",
       "      <td>pepeMeltdown HIDE THE MEMES pepeMeltdown HIDE ...</td>\n",
       "      <td>0.448</td>\n",
       "      <td>0.552</td>\n",
       "      <td>0.0</td>\n",
       "      <td>-0.9791</td>\n",
       "    </tr>\n",
       "    <tr>\n",
       "      <th>11457</th>\n",
       "      <td>11457</td>\n",
       "      <td>2021-04-18 16:21:31</td>\n",
       "      <td>pokimane</td>\n",
       "      <td>redrge</td>\n",
       "      <td>\u0001ACTION monkaW HIDE THE MEMES monkaW HIDE THE ...</td>\n",
       "      <td>0.444</td>\n",
       "      <td>0.556</td>\n",
       "      <td>0.0</td>\n",
       "      <td>-0.9900</td>\n",
       "    </tr>\n",
       "    <tr>\n",
       "      <th>11461</th>\n",
       "      <td>11461</td>\n",
       "      <td>2021-04-18 16:21:32</td>\n",
       "      <td>pokimane</td>\n",
       "      <td>sushixt4</td>\n",
       "      <td>pepeMeltdown HIDE THE MEMES pepeMeltdown HIDE ...</td>\n",
       "      <td>0.442</td>\n",
       "      <td>0.558</td>\n",
       "      <td>0.0</td>\n",
       "      <td>-0.9791</td>\n",
       "    </tr>\n",
       "    <tr>\n",
       "      <th>11468</th>\n",
       "      <td>11468</td>\n",
       "      <td>2021-04-18 16:21:34</td>\n",
       "      <td>pokimane</td>\n",
       "      <td>25elevin</td>\n",
       "      <td>WideMimi HYPERCLAP NO STREAMER WideMimi HYPERC...</td>\n",
       "      <td>0.494</td>\n",
       "      <td>0.506</td>\n",
       "      <td>0.0</td>\n",
       "      <td>-0.9700</td>\n",
       "    </tr>\n",
       "    <tr>\n",
       "      <th>11471</th>\n",
       "      <td>11471</td>\n",
       "      <td>2021-04-18 16:21:34</td>\n",
       "      <td>pokimane</td>\n",
       "      <td>mootkittens</td>\n",
       "      <td>IDE THE MEMES monkaW HIDE THE MEMES monkaW HID...</td>\n",
       "      <td>0.428</td>\n",
       "      <td>0.572</td>\n",
       "      <td>0.0</td>\n",
       "      <td>-0.9756</td>\n",
       "    </tr>\n",
       "    <tr>\n",
       "      <th>11476</th>\n",
       "      <td>11476</td>\n",
       "      <td>2021-04-18 16:21:35</td>\n",
       "      <td>pokimane</td>\n",
       "      <td>2nobody2</td>\n",
       "      <td>WideHardo Clap NO STREAMER WideHardo Clap NO S...</td>\n",
       "      <td>0.494</td>\n",
       "      <td>0.506</td>\n",
       "      <td>0.0</td>\n",
       "      <td>-0.9883</td>\n",
       "    </tr>\n",
       "  </tbody>\n",
       "</table>\n",
       "</div>"
      ],
      "text/plain": [
       "       Unnamed: 0                   dt   channel           username  \\\n",
       "11206       11206  2021-04-18 16:20:01  pokimane    widepeeposergio   \n",
       "11208       11208  2021-04-18 16:20:04  pokimane  awesomehasser1945   \n",
       "11211       11211  2021-04-18 16:20:05  pokimane          alexgris_   \n",
       "11213       11213  2021-04-18 16:20:05  pokimane         rektmate23   \n",
       "11224       11224  2021-04-18 16:20:09  pokimane             pogi52   \n",
       "11231       11231  2021-04-18 16:20:14  pokimane             pogi52   \n",
       "11232       11232  2021-04-18 16:20:14  pokimane  awesomehasser1945   \n",
       "11239       11239  2021-04-18 16:20:19  pokimane  awesomehasser1945   \n",
       "11249       11249  2021-04-18 16:20:27  pokimane         fur10us_gg   \n",
       "11252       11252  2021-04-18 16:20:28  pokimane          drakorycz   \n",
       "11256       11256  2021-04-18 16:20:29  pokimane          alexgris_   \n",
       "11257       11257  2021-04-18 16:20:30  pokimane        scope_fishe   \n",
       "11261       11261  2021-04-18 16:20:32  pokimane       lightspace56   \n",
       "11275       11275  2021-04-18 16:20:36  pokimane            spl1ce_   \n",
       "11294       11294  2021-04-18 16:20:48  pokimane           sayurii5   \n",
       "11306       11306  2021-04-18 16:20:50  pokimane        scope_fishe   \n",
       "11309       11309  2021-04-18 16:20:54  pokimane     azianb0ifreezy   \n",
       "11325       11325  2021-04-18 16:21:00  pokimane        lil_queen90   \n",
       "11353       11353  2021-04-18 16:21:10  pokimane         fur10us_gg   \n",
       "11361       11361  2021-04-18 16:21:12  pokimane              kekcl   \n",
       "11378       11378  2021-04-18 16:21:15  pokimane     astro_giraffe2   \n",
       "11385       11385  2021-04-18 16:21:16  pokimane           tororena   \n",
       "11399       11399  2021-04-18 16:21:18  pokimane     azianb0ifreezy   \n",
       "11403       11403  2021-04-18 16:21:19  pokimane             redrge   \n",
       "11425       11425  2021-04-18 16:21:26  pokimane           sushixt4   \n",
       "11457       11457  2021-04-18 16:21:31  pokimane             redrge   \n",
       "11461       11461  2021-04-18 16:21:32  pokimane           sushixt4   \n",
       "11468       11468  2021-04-18 16:21:34  pokimane           25elevin   \n",
       "11471       11471  2021-04-18 16:21:34  pokimane        mootkittens   \n",
       "11476       11476  2021-04-18 16:21:35  pokimane           2nobody2   \n",
       "\n",
       "                                                 message    neg    neu  pos  \\\n",
       "11206  WideMimi HYPERCLAP NO STREAMER WideMimi HYPERC...  0.494  0.506  0.0   \n",
       "11208  WideHardo Clap NO STREAMER WideHardo Clap NO S...  0.485  0.515  0.0   \n",
       "11211  WideMimi HYPERCLAP NO STREAMER WideMimi HYPERC...  0.494  0.506  0.0   \n",
       "11213  WideHardo Clap NO STREAMER WideHardo Clap NO S...  0.494  0.506  0.0   \n",
       "11224  WideHardo Clap NO STREAMER WideHardo Clap NO S...  0.494  0.506  0.0   \n",
       "11231  WideHardo Clap NO STREAMER WideHardo Clap NO S...  0.488  0.512  0.0   \n",
       "11232  WideHardo Clap NO STREAMER WideHardo Clap NO S...  0.494  0.506  0.0   \n",
       "11239  WideHardo Clap NO STREAMER WideHardo Clap NO S...  0.494  0.506  0.0   \n",
       "11249  WideMimi HYPERCLAP NO STREAMER WideMimi HYPERC...  0.494  0.506  0.0   \n",
       "11252  WideHardo Clap NO STREAMER WideHardo Clap NO S...  0.494  0.506  0.0   \n",
       "11256  WideMimi HYPERCLAP NO STREAMER WideMimi HYPERC...  0.494  0.506  0.0   \n",
       "11257  WideHardo Clap NO STREAMER WideHardo Clap NO S...  0.494  0.506  0.0   \n",
       "11261  WideHardo Clap NO STREAMER WideHardo Clap NO S...  0.488  0.512  0.0   \n",
       "11275  WideHardo Clap NO STREAMER WideHardo Clap NO S...  0.494  0.506  0.0   \n",
       "11294  WideHardo Clap NO STREAMER WideHardo Clap NO S...  0.494  0.506  0.0   \n",
       "11306  WideHardo Clap NO STREAMER WideHardo Clap NO S...  0.494  0.506  0.0   \n",
       "11309  WideMimi HYPERCLAP NO STREAMER WideMimi HYPERC...  0.489  0.511  0.0   \n",
       "11325  WideHardo Clap NO STREAMER WideHardo Clap NO S...  0.494  0.506  0.0   \n",
       "11353  WideMimi HYPERCLAP NO STREAMER WideMimi HYPERC...  0.494  0.506  0.0   \n",
       "11361  WideHardo Clap NO STREAMER WideHardo Clap NO S...  0.494  0.506  0.0   \n",
       "11378  WideMimi HYPERCLAP NO STREAMER WideMimi HYPERC...  0.489  0.511  0.0   \n",
       "11385  WideHardo Clap NO STREAMER WideHardo Clap NO S...  0.494  0.506  0.0   \n",
       "11399  WideMimi HYPERCLAP NO STREAMER WideMimi HYPERC...  0.494  0.506  0.0   \n",
       "11403  monkaW HIDE THE MEMES monkaW HIDE THE MEMES mo...  0.448  0.552  0.0   \n",
       "11425  pepeMeltdown HIDE THE MEMES pepeMeltdown HIDE ...  0.448  0.552  0.0   \n",
       "11457  \u0001ACTION monkaW HIDE THE MEMES monkaW HIDE THE ...  0.444  0.556  0.0   \n",
       "11461  pepeMeltdown HIDE THE MEMES pepeMeltdown HIDE ...  0.442  0.558  0.0   \n",
       "11468  WideMimi HYPERCLAP NO STREAMER WideMimi HYPERC...  0.494  0.506  0.0   \n",
       "11471  IDE THE MEMES monkaW HIDE THE MEMES monkaW HID...  0.428  0.572  0.0   \n",
       "11476  WideHardo Clap NO STREAMER WideHardo Clap NO S...  0.494  0.506  0.0   \n",
       "\n",
       "       compound  \n",
       "11206   -0.9614  \n",
       "11208   -0.9939  \n",
       "11211   -0.9761  \n",
       "11213   -0.9883  \n",
       "11224   -0.9883  \n",
       "11231   -0.9883  \n",
       "11232   -0.9899  \n",
       "11239   -0.9883  \n",
       "11249   -0.9805  \n",
       "11252   -0.9883  \n",
       "11256   -0.9863  \n",
       "11257   -0.9883  \n",
       "11261   -0.9883  \n",
       "11275   -0.9883  \n",
       "11294   -0.9883  \n",
       "11306   -0.9883  \n",
       "11309   -0.9923  \n",
       "11325   -0.9883  \n",
       "11353   -0.9912  \n",
       "11361   -0.9883  \n",
       "11378   -0.9923  \n",
       "11385   -0.9485  \n",
       "11399   -0.9282  \n",
       "11403   -0.9791  \n",
       "11425   -0.9791  \n",
       "11457   -0.9900  \n",
       "11461   -0.9791  \n",
       "11468   -0.9700  \n",
       "11471   -0.9756  \n",
       "11476   -0.9883  "
      ]
     },
     "execution_count": 47,
     "metadata": {},
     "output_type": "execute_result"
    }
   ],
   "source": [
    "# investigate the negative options:\n",
    "poki_df[poki_df['compound'] < -0.9].iloc[100:130]"
   ]
  },
  {
   "cell_type": "code",
   "execution_count": 41,
   "metadata": {},
   "outputs": [
    {
     "data": {
      "text/plain": [
       "'WideMimi HYPERCLAP NO STREAMER WideMimi HYPERCLAP NO STREAMER WideMimi HYPERCLAP NO STREAMER WideMimi HYPERCLAP NO STREAMER'"
      ]
     },
     "execution_count": 41,
     "metadata": {},
     "output_type": "execute_result"
    }
   ],
   "source": [
    "poki_df.iloc[11237].message"
   ]
  },
  {
   "cell_type": "code",
   "execution_count": null,
   "metadata": {},
   "outputs": [],
   "source": []
  }
 ],
 "metadata": {
  "kernelspec": {
   "display_name": "Python 3",
   "language": "python",
   "name": "python3"
  },
  "language_info": {
   "codemirror_mode": {
    "name": "ipython",
    "version": 3
   },
   "file_extension": ".py",
   "mimetype": "text/x-python",
   "name": "python",
   "nbconvert_exporter": "python",
   "pygments_lexer": "ipython3",
   "version": "3.8.5"
  }
 },
 "nbformat": 4,
 "nbformat_minor": 4
}
