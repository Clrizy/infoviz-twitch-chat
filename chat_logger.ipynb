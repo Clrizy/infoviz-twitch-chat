{
 "cells": [
  {
   "cell_type": "code",
   "execution_count": 1,
   "metadata": {},
   "outputs": [],
   "source": [
    "import socket\n",
    "import logging\n",
    "from emoji import demojize\n",
    "\n",
    "logging.basicConfig(level=logging.DEBUG,\n",
    "                    format='%(asctime)s — %(message)s',\n",
    "                    datefmt='%Y-%m-%d_%H:%M:%S',\n",
    "                    handlers=[logging.FileHandler('chat_doublelift_2.log', encoding='utf-8')])\n",
    "\n",
    "\n",
    "\"\"\"\n",
    "Get token here: https://twitchapps.com/tmi/\n",
    "\"\"\"\n",
    "\n",
    "server = 'irc.chat.twitch.tv'\n",
    "port = 6667\n",
    "nickname = 'cl_zy_cl'\n",
    "token = 'oauth:sudwjj13n68yh4sxx0zdjwkvgwlfts'\n",
    "channel = '#doublelift'\n",
    "\n",
    "\n",
    "def main():\n",
    "    sock = socket.socket()\n",
    "    sock.connect((server, port))\n",
    "    sock.send(f\"PASS {token}\\r\\n\".encode('utf-8'))\n",
    "    sock.send(f\"NICK {nickname}\\r\\n\".encode('utf-8'))\n",
    "    sock.send(f\"JOIN {channel}\\r\\n\".encode('utf-8'))\n",
    "\n",
    "    try:\n",
    "        while True:\n",
    "            resp = sock.recv(2048).decode('utf-8')\n",
    "\n",
    "            if resp.startswith('PING'):\n",
    "                # sock.send(\"PONG :tmi.twitch.tv\\n\".encode('utf-8'))\n",
    "                sock.send(\"PONG\\n\".encode('utf-8'))\n",
    "            elif len(resp) > 0:\n",
    "                logging.info(demojize(resp))\n",
    "\n",
    "    except KeyboardInterrupt:\n",
    "        sock.close()\n",
    "        exit()\n",
    "\n",
    "if __name__ == '__main__':\n",
    "    main()"
   ]
  },
  {
   "cell_type": "code",
   "execution_count": null,
   "metadata": {},
   "outputs": [],
   "source": []
  },
  {
   "cell_type": "code",
   "execution_count": null,
   "metadata": {},
   "outputs": [],
   "source": []
  },
  {
   "cell_type": "code",
   "execution_count": null,
   "metadata": {},
   "outputs": [],
   "source": []
  }
 ],
 "metadata": {
  "kernelspec": {
   "display_name": "Python 3",
   "language": "python",
   "name": "python3"
  },
  "language_info": {
   "codemirror_mode": {
    "name": "ipython",
    "version": 3
   },
   "file_extension": ".py",
   "mimetype": "text/x-python",
   "name": "python",
   "nbconvert_exporter": "python",
   "pygments_lexer": "ipython3",
   "version": "3.8.3"
  }
 },
 "nbformat": 4,
 "nbformat_minor": 4
}
